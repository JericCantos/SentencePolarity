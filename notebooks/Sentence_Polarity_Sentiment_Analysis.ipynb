{
  "nbformat": 4,
  "nbformat_minor": 0,
  "metadata": {
    "colab": {
      "provenance": [],
      "toc_visible": true,
      "authorship_tag": "ABX9TyOxDImXALPw/LQlbyCXiP9/",
      "include_colab_link": true
    },
    "kernelspec": {
      "name": "python3",
      "display_name": "Python 3"
    },
    "language_info": {
      "name": "python"
    }
  },
  "cells": [
    {
      "cell_type": "markdown",
      "metadata": {
        "id": "view-in-github",
        "colab_type": "text"
      },
      "source": [
        "<a href=\"https://colab.research.google.com/github/JericCantos/SentencePolarity/blob/main/notebooks/Sentence_Polarity_Sentiment_Analysis.ipynb\" target=\"_parent\"><img src=\"https://colab.research.google.com/assets/colab-badge.svg\" alt=\"Open In Colab\"/></a>"
      ]
    },
    {
      "cell_type": "markdown",
      "source": [
        "# Introduction"
      ],
      "metadata": {
        "id": "3TnJeEsj83fW"
      }
    },
    {
      "cell_type": "markdown",
      "source": [
        "Using the [Sentence Polarity dataset](https://www.kaggle.com/datasets/nltkdata/sentence-polarity), train and evaluate different sentiment classsifier models that can predict whether given review is leaning **positive** or **negative**\n",
        "\n",
        "The project goes through:\n",
        "1. Data Preprocessing and Cleaning\n",
        "2. Feature Extraction\n",
        "3. Model Trainning and Evaluation with Cross-Validation\n",
        "4. Hyperparameter Tuning"
      ],
      "metadata": {
        "id": "6P0iwzPr855s"
      }
    },
    {
      "cell_type": "markdown",
      "source": [
        "# Setup"
      ],
      "metadata": {
        "id": "ey-tRpqh9hjL"
      }
    },
    {
      "cell_type": "markdown",
      "source": [
        "## Import Libraries"
      ],
      "metadata": {
        "id": "AtNilCCN9lc0"
      }
    },
    {
      "cell_type": "code",
      "execution_count": 5,
      "metadata": {
        "colab": {
          "base_uri": "https://localhost:8080/"
        },
        "id": "fQU96TmO7t9L",
        "outputId": "e1ff0cd8-71c3-4965-e05f-1927373589fc"
      },
      "outputs": [
        {
          "output_type": "stream",
          "name": "stderr",
          "text": [
            "[nltk_data] Downloading package punkt_tab to /root/nltk_data...\n",
            "[nltk_data]   Package punkt_tab is already up-to-date!\n",
            "[nltk_data] Downloading package stopwords to /root/nltk_data...\n",
            "[nltk_data]   Package stopwords is already up-to-date!\n",
            "[nltk_data] Downloading package punkt to /root/nltk_data...\n",
            "[nltk_data]   Package punkt is already up-to-date!\n",
            "[nltk_data] Downloading package wordnet to /root/nltk_data...\n",
            "[nltk_data]   Package wordnet is already up-to-date!\n"
          ]
        }
      ],
      "source": [
        "import numpy as np\n",
        "import pandas as pd\n",
        "import random\n",
        "import nltk\n",
        "import re\n",
        "\n",
        "from nltk.stem import WordNetLemmatizer\n",
        "from nltk.corpus import stopwords\n",
        "from nltk.tokenize import word_tokenize\n",
        "nltk.download('punkt_tab')\n",
        "\n",
        "# Downloading necessary NLTK resources\n",
        "nltk.download('stopwords')  # List of common stop words in English\n",
        "nltk.download('punkt')  # Pre-trained tokenizer models\n",
        "nltk.download('wordnet')  # WordNet lemmatizer dataset\n",
        "\n",
        "# Libraries for text feature extraction and model training\n",
        "from sklearn.feature_extraction.text import TfidfVectorizer\n",
        "from sklearn.linear_model import LogisticRegression\n",
        "from sklearn.svm import LinearSVC\n",
        "\n",
        "# Libraries for model evaluation\n",
        "from sklearn.metrics import classification_report, accuracy_score, confusion_matrix\n",
        "from sklearn.model_selection import KFold, cross_val_score"
      ]
    },
    {
      "cell_type": "markdown",
      "source": [
        "## Load Dataset"
      ],
      "metadata": {
        "id": "GdgYAulT_OW1"
      }
    },
    {
      "cell_type": "markdown",
      "source": [
        "### Kaggle"
      ],
      "metadata": {
        "id": "ErE1_KHg_QSi"
      }
    },
    {
      "cell_type": "markdown",
      "source": [
        "Ensure that you create a KAGGLE_USERNAME and KAGGLE_KEY secret. You can get a username and key by generating an API Token from Kaggle (Settings -> API)."
      ],
      "metadata": {
        "id": "O81evKp3CM4J"
      }
    },
    {
      "cell_type": "code",
      "source": [
        "import os\n",
        "import json\n",
        "from google.colab import userdata\n",
        "\n",
        "KAGGLE_USERNAME = userdata.get('KAGGLE_USERNAME')\n",
        "KAGGLE_KEY = userdata.get('KAGGLE_KEY')\n",
        "\n",
        "# Create kaggle.json from your secrets\n",
        "os.makedirs(os.path.expanduser(\"~/.kaggle\"), exist_ok=True)\n",
        "with open(os.path.expanduser(\"~/.kaggle/kaggle.json\"), \"w\") as f:\n",
        "    json.dump({\n",
        "        \"username\": KAGGLE_USERNAME,\n",
        "        \"key\": KAGGLE_KEY\n",
        "    }, f)\n",
        "\n",
        "!chmod 600 ~/.kaggle/kaggle.json\n"
      ],
      "metadata": {
        "id": "-kF7WIuc_SCu"
      },
      "execution_count": 2,
      "outputs": []
    },
    {
      "cell_type": "code",
      "source": [
        "!kaggle datasets download -d nltkdata/sentence-polarity"
      ],
      "metadata": {
        "colab": {
          "base_uri": "https://localhost:8080/"
        },
        "id": "9l3mejNd_ejU",
        "outputId": "53349a81-9990-4485-9e9b-b7acabf68496"
      },
      "execution_count": 3,
      "outputs": [
        {
          "output_type": "stream",
          "name": "stdout",
          "text": [
            "Dataset URL: https://www.kaggle.com/datasets/nltkdata/sentence-polarity\n",
            "License(s): other\n",
            "Downloading sentence-polarity.zip to /content\n",
            "  0% 0.00/488k [00:00<?, ?B/s]\n",
            "100% 488k/488k [00:00<00:00, 617MB/s]\n"
          ]
        }
      ]
    },
    {
      "cell_type": "code",
      "source": [
        "!unzip sentence-polarity.zip"
      ],
      "metadata": {
        "colab": {
          "base_uri": "https://localhost:8080/"
        },
        "id": "v3d5Nx5BADTR",
        "outputId": "8fa4d06f-8c2b-419e-f188-b2f79acd11b9"
      },
      "execution_count": 4,
      "outputs": [
        {
          "output_type": "stream",
          "name": "stdout",
          "text": [
            "Archive:  sentence-polarity.zip\n",
            "  inflating: sentence_polarity/README.txt  \n",
            "  inflating: sentence_polarity/rt-polarity.neg  \n",
            "  inflating: sentence_polarity/rt-polarity.pos  \n"
          ]
        }
      ]
    },
    {
      "cell_type": "markdown",
      "source": [
        "### Read Datafiles"
      ],
      "metadata": {
        "id": "mbVuxsUKDjsx"
      }
    },
    {
      "cell_type": "code",
      "source": [
        "# Read the positive and negative sentiment files\n",
        "df_sent_pos = pd.read_csv('sentence_polarity/rt-polarity.pos',\n",
        "                          sep='\\t', header=None)\n",
        "  # Positive sentiment sentences\n",
        "df_sent_neg = pd.read_csv('sentence_polarity/rt-polarity.neg', sep='\\t', header=None)\n",
        "  # Negative sentiment sentences\n",
        "\n",
        "print(df_sent_pos.shape)\n",
        "print(df_sent_neg.shape)\n",
        "df_sent_pos.head()"
      ],
      "metadata": {
        "colab": {
          "base_uri": "https://localhost:8080/",
          "height": 241
        },
        "id": "0S5QQe8tDmYR",
        "outputId": "61e426d1-4037-4441-c564-f4c915d6644c"
      },
      "execution_count": 9,
      "outputs": [
        {
          "output_type": "stream",
          "name": "stdout",
          "text": [
            "(5331, 1)\n",
            "(5331, 1)\n"
          ]
        },
        {
          "output_type": "execute_result",
          "data": {
            "text/plain": [
              "                                                   0\n",
              "0  the rock is destined to be the 21st century's ...\n",
              "1  the gorgeously elaborate continuation of \" the...\n",
              "2                     effective but too-tepid biopic\n",
              "3  if you sometimes like to go to the movies to h...\n",
              "4  emerges as something rare , an issue movie tha..."
            ],
            "text/html": [
              "\n",
              "  <div id=\"df-d1b1f718-7db3-4ca0-807d-58665cd203d8\" class=\"colab-df-container\">\n",
              "    <div>\n",
              "<style scoped>\n",
              "    .dataframe tbody tr th:only-of-type {\n",
              "        vertical-align: middle;\n",
              "    }\n",
              "\n",
              "    .dataframe tbody tr th {\n",
              "        vertical-align: top;\n",
              "    }\n",
              "\n",
              "    .dataframe thead th {\n",
              "        text-align: right;\n",
              "    }\n",
              "</style>\n",
              "<table border=\"1\" class=\"dataframe\">\n",
              "  <thead>\n",
              "    <tr style=\"text-align: right;\">\n",
              "      <th></th>\n",
              "      <th>0</th>\n",
              "    </tr>\n",
              "  </thead>\n",
              "  <tbody>\n",
              "    <tr>\n",
              "      <th>0</th>\n",
              "      <td>the rock is destined to be the 21st century's ...</td>\n",
              "    </tr>\n",
              "    <tr>\n",
              "      <th>1</th>\n",
              "      <td>the gorgeously elaborate continuation of \" the...</td>\n",
              "    </tr>\n",
              "    <tr>\n",
              "      <th>2</th>\n",
              "      <td>effective but too-tepid biopic</td>\n",
              "    </tr>\n",
              "    <tr>\n",
              "      <th>3</th>\n",
              "      <td>if you sometimes like to go to the movies to h...</td>\n",
              "    </tr>\n",
              "    <tr>\n",
              "      <th>4</th>\n",
              "      <td>emerges as something rare , an issue movie tha...</td>\n",
              "    </tr>\n",
              "  </tbody>\n",
              "</table>\n",
              "</div>\n",
              "    <div class=\"colab-df-buttons\">\n",
              "\n",
              "  <div class=\"colab-df-container\">\n",
              "    <button class=\"colab-df-convert\" onclick=\"convertToInteractive('df-d1b1f718-7db3-4ca0-807d-58665cd203d8')\"\n",
              "            title=\"Convert this dataframe to an interactive table.\"\n",
              "            style=\"display:none;\">\n",
              "\n",
              "  <svg xmlns=\"http://www.w3.org/2000/svg\" height=\"24px\" viewBox=\"0 -960 960 960\">\n",
              "    <path d=\"M120-120v-720h720v720H120Zm60-500h600v-160H180v160Zm220 220h160v-160H400v160Zm0 220h160v-160H400v160ZM180-400h160v-160H180v160Zm440 0h160v-160H620v160ZM180-180h160v-160H180v160Zm440 0h160v-160H620v160Z\"/>\n",
              "  </svg>\n",
              "    </button>\n",
              "\n",
              "  <style>\n",
              "    .colab-df-container {\n",
              "      display:flex;\n",
              "      gap: 12px;\n",
              "    }\n",
              "\n",
              "    .colab-df-convert {\n",
              "      background-color: #E8F0FE;\n",
              "      border: none;\n",
              "      border-radius: 50%;\n",
              "      cursor: pointer;\n",
              "      display: none;\n",
              "      fill: #1967D2;\n",
              "      height: 32px;\n",
              "      padding: 0 0 0 0;\n",
              "      width: 32px;\n",
              "    }\n",
              "\n",
              "    .colab-df-convert:hover {\n",
              "      background-color: #E2EBFA;\n",
              "      box-shadow: 0px 1px 2px rgba(60, 64, 67, 0.3), 0px 1px 3px 1px rgba(60, 64, 67, 0.15);\n",
              "      fill: #174EA6;\n",
              "    }\n",
              "\n",
              "    .colab-df-buttons div {\n",
              "      margin-bottom: 4px;\n",
              "    }\n",
              "\n",
              "    [theme=dark] .colab-df-convert {\n",
              "      background-color: #3B4455;\n",
              "      fill: #D2E3FC;\n",
              "    }\n",
              "\n",
              "    [theme=dark] .colab-df-convert:hover {\n",
              "      background-color: #434B5C;\n",
              "      box-shadow: 0px 1px 3px 1px rgba(0, 0, 0, 0.15);\n",
              "      filter: drop-shadow(0px 1px 2px rgba(0, 0, 0, 0.3));\n",
              "      fill: #FFFFFF;\n",
              "    }\n",
              "  </style>\n",
              "\n",
              "    <script>\n",
              "      const buttonEl =\n",
              "        document.querySelector('#df-d1b1f718-7db3-4ca0-807d-58665cd203d8 button.colab-df-convert');\n",
              "      buttonEl.style.display =\n",
              "        google.colab.kernel.accessAllowed ? 'block' : 'none';\n",
              "\n",
              "      async function convertToInteractive(key) {\n",
              "        const element = document.querySelector('#df-d1b1f718-7db3-4ca0-807d-58665cd203d8');\n",
              "        const dataTable =\n",
              "          await google.colab.kernel.invokeFunction('convertToInteractive',\n",
              "                                                    [key], {});\n",
              "        if (!dataTable) return;\n",
              "\n",
              "        const docLinkHtml = 'Like what you see? Visit the ' +\n",
              "          '<a target=\"_blank\" href=https://colab.research.google.com/notebooks/data_table.ipynb>data table notebook</a>'\n",
              "          + ' to learn more about interactive tables.';\n",
              "        element.innerHTML = '';\n",
              "        dataTable['output_type'] = 'display_data';\n",
              "        await google.colab.output.renderOutput(dataTable, element);\n",
              "        const docLink = document.createElement('div');\n",
              "        docLink.innerHTML = docLinkHtml;\n",
              "        element.appendChild(docLink);\n",
              "      }\n",
              "    </script>\n",
              "  </div>\n",
              "\n",
              "\n",
              "    <div id=\"df-f4b15c8f-aafc-4511-b8ca-3894cdc7f284\">\n",
              "      <button class=\"colab-df-quickchart\" onclick=\"quickchart('df-f4b15c8f-aafc-4511-b8ca-3894cdc7f284')\"\n",
              "                title=\"Suggest charts\"\n",
              "                style=\"display:none;\">\n",
              "\n",
              "<svg xmlns=\"http://www.w3.org/2000/svg\" height=\"24px\"viewBox=\"0 0 24 24\"\n",
              "     width=\"24px\">\n",
              "    <g>\n",
              "        <path d=\"M19 3H5c-1.1 0-2 .9-2 2v14c0 1.1.9 2 2 2h14c1.1 0 2-.9 2-2V5c0-1.1-.9-2-2-2zM9 17H7v-7h2v7zm4 0h-2V7h2v10zm4 0h-2v-4h2v4z\"/>\n",
              "    </g>\n",
              "</svg>\n",
              "      </button>\n",
              "\n",
              "<style>\n",
              "  .colab-df-quickchart {\n",
              "      --bg-color: #E8F0FE;\n",
              "      --fill-color: #1967D2;\n",
              "      --hover-bg-color: #E2EBFA;\n",
              "      --hover-fill-color: #174EA6;\n",
              "      --disabled-fill-color: #AAA;\n",
              "      --disabled-bg-color: #DDD;\n",
              "  }\n",
              "\n",
              "  [theme=dark] .colab-df-quickchart {\n",
              "      --bg-color: #3B4455;\n",
              "      --fill-color: #D2E3FC;\n",
              "      --hover-bg-color: #434B5C;\n",
              "      --hover-fill-color: #FFFFFF;\n",
              "      --disabled-bg-color: #3B4455;\n",
              "      --disabled-fill-color: #666;\n",
              "  }\n",
              "\n",
              "  .colab-df-quickchart {\n",
              "    background-color: var(--bg-color);\n",
              "    border: none;\n",
              "    border-radius: 50%;\n",
              "    cursor: pointer;\n",
              "    display: none;\n",
              "    fill: var(--fill-color);\n",
              "    height: 32px;\n",
              "    padding: 0;\n",
              "    width: 32px;\n",
              "  }\n",
              "\n",
              "  .colab-df-quickchart:hover {\n",
              "    background-color: var(--hover-bg-color);\n",
              "    box-shadow: 0 1px 2px rgba(60, 64, 67, 0.3), 0 1px 3px 1px rgba(60, 64, 67, 0.15);\n",
              "    fill: var(--button-hover-fill-color);\n",
              "  }\n",
              "\n",
              "  .colab-df-quickchart-complete:disabled,\n",
              "  .colab-df-quickchart-complete:disabled:hover {\n",
              "    background-color: var(--disabled-bg-color);\n",
              "    fill: var(--disabled-fill-color);\n",
              "    box-shadow: none;\n",
              "  }\n",
              "\n",
              "  .colab-df-spinner {\n",
              "    border: 2px solid var(--fill-color);\n",
              "    border-color: transparent;\n",
              "    border-bottom-color: var(--fill-color);\n",
              "    animation:\n",
              "      spin 1s steps(1) infinite;\n",
              "  }\n",
              "\n",
              "  @keyframes spin {\n",
              "    0% {\n",
              "      border-color: transparent;\n",
              "      border-bottom-color: var(--fill-color);\n",
              "      border-left-color: var(--fill-color);\n",
              "    }\n",
              "    20% {\n",
              "      border-color: transparent;\n",
              "      border-left-color: var(--fill-color);\n",
              "      border-top-color: var(--fill-color);\n",
              "    }\n",
              "    30% {\n",
              "      border-color: transparent;\n",
              "      border-left-color: var(--fill-color);\n",
              "      border-top-color: var(--fill-color);\n",
              "      border-right-color: var(--fill-color);\n",
              "    }\n",
              "    40% {\n",
              "      border-color: transparent;\n",
              "      border-right-color: var(--fill-color);\n",
              "      border-top-color: var(--fill-color);\n",
              "    }\n",
              "    60% {\n",
              "      border-color: transparent;\n",
              "      border-right-color: var(--fill-color);\n",
              "    }\n",
              "    80% {\n",
              "      border-color: transparent;\n",
              "      border-right-color: var(--fill-color);\n",
              "      border-bottom-color: var(--fill-color);\n",
              "    }\n",
              "    90% {\n",
              "      border-color: transparent;\n",
              "      border-bottom-color: var(--fill-color);\n",
              "    }\n",
              "  }\n",
              "</style>\n",
              "\n",
              "      <script>\n",
              "        async function quickchart(key) {\n",
              "          const quickchartButtonEl =\n",
              "            document.querySelector('#' + key + ' button');\n",
              "          quickchartButtonEl.disabled = true;  // To prevent multiple clicks.\n",
              "          quickchartButtonEl.classList.add('colab-df-spinner');\n",
              "          try {\n",
              "            const charts = await google.colab.kernel.invokeFunction(\n",
              "                'suggestCharts', [key], {});\n",
              "          } catch (error) {\n",
              "            console.error('Error during call to suggestCharts:', error);\n",
              "          }\n",
              "          quickchartButtonEl.classList.remove('colab-df-spinner');\n",
              "          quickchartButtonEl.classList.add('colab-df-quickchart-complete');\n",
              "        }\n",
              "        (() => {\n",
              "          let quickchartButtonEl =\n",
              "            document.querySelector('#df-f4b15c8f-aafc-4511-b8ca-3894cdc7f284 button');\n",
              "          quickchartButtonEl.style.display =\n",
              "            google.colab.kernel.accessAllowed ? 'block' : 'none';\n",
              "        })();\n",
              "      </script>\n",
              "    </div>\n",
              "\n",
              "    </div>\n",
              "  </div>\n"
            ],
            "application/vnd.google.colaboratory.intrinsic+json": {
              "type": "dataframe",
              "variable_name": "df_sent_pos",
              "summary": "{\n  \"name\": \"df_sent_pos\",\n  \"rows\": 5331,\n  \"fields\": [\n    {\n      \"column\": 0,\n      \"properties\": {\n        \"dtype\": \"string\",\n        \"num_unique_values\": 5331,\n        \"samples\": [\n          \"watching e . t now , in an era dominated by cold , loud special-effects-laden extravaganzas , one is struck less by its lavish grandeur than by its intimacy and precision . \",\n          \"this version incarnates the prophetic book in a way even its exacting author might admire . \",\n          \"behan himself knew how to spin a tale and one can't help but think he'd appreciate this attempt to turn his life into art . \"\n        ],\n        \"semantic_type\": \"\",\n        \"description\": \"\"\n      }\n    }\n  ]\n}"
            }
          },
          "metadata": {},
          "execution_count": 9
        }
      ]
    },
    {
      "cell_type": "code",
      "source": [
        "# Rename the column to 'sentence'\n",
        "df_sent_pos.rename(columns={0: \"sentence\"}, inplace=True)\n",
        "df_sent_neg.rename(columns={0: \"sentence\"}, inplace=True)"
      ],
      "metadata": {
        "id": "xcG12eYIEI2Q"
      },
      "execution_count": 10,
      "outputs": []
    },
    {
      "cell_type": "markdown",
      "source": [
        "# Data Preprocessing"
      ],
      "metadata": {
        "id": "QUczNDYZEN1A"
      }
    },
    {
      "cell_type": "code",
      "source": [
        "# Define the preprocessing function\n",
        "def preprocess_text(sentences):\n",
        "    # Convert all tokens to lowercase\n",
        "    sentences = [sentence.lower() for sentence in sentences]\n",
        "\n",
        "    # Remove punctuation using regex\n",
        "    sentences = [re.sub(r\"[^\\w\\s]\", \"\", sentence) for sentence in sentences]\n",
        "\n",
        "    # Remove extra whitespace between words\n",
        "    sentences = [\" \".join(sentence.split()) for sentence in sentences]\n",
        "\n",
        "    # Tokenize sentences into words\n",
        "    sentences = [word_tokenize(sentence) for sentence in sentences]\n",
        "\n",
        "    # Remove stop words\n",
        "    stop_words = set(stopwords.words('english'))  # Load English stop words\n",
        "    filtered_sentences = []\n",
        "    for sentence in sentences:\n",
        "        filtered_sentence = [word for word in sentence if word not in stop_words]\n",
        "        filtered_sentences.append(filtered_sentence)\n",
        "\n",
        "    # Lemmatize words\n",
        "    lemmatizer = WordNetLemmatizer()\n",
        "    lemmatized_sentences = []\n",
        "    for sentence in filtered_sentences:\n",
        "        lemmatized_sentence = [lemmatizer.lemmatize(word) for word in sentence]\n",
        "        lemmatized_sentences.append(lemmatized_sentence)\n",
        "\n",
        "    return [' '.join(sentence) for sentence in lemmatized_sentences]"
      ],
      "metadata": {
        "id": "T-QmvMjFERKx"
      },
      "execution_count": 11,
      "outputs": []
    },
    {
      "cell_type": "code",
      "source": [
        "# Preprocess the sentences\n",
        "pos_preprocessed_sentences = preprocess_text(df_sent_pos['sentence'])\n",
        "neg_preprocessed_sentences = preprocess_text(df_sent_neg['sentence'])\n",
        "\n",
        "# Print the first preprocessed negative sentence\n",
        "print(neg_preprocessed_sentences[0])"
      ],
      "metadata": {
        "colab": {
          "base_uri": "https://localhost:8080/"
        },
        "id": "o8tdt80BFGEf",
        "outputId": "5450bc3c-7f4d-4543-baa8-63f791cc34ca"
      },
      "execution_count": 12,
      "outputs": [
        {
          "output_type": "stream",
          "name": "stdout",
          "text": [
            "simplistic silly tedious\n"
          ]
        }
      ]
    },
    {
      "cell_type": "code",
      "source": [
        "# Combine preprocessed positive and negative sentences\n",
        "sentences = pos_preprocessed_sentences + neg_preprocessed_sentences"
      ],
      "metadata": {
        "id": "JVuBzjJoFhym"
      },
      "execution_count": 14,
      "outputs": []
    },
    {
      "cell_type": "code",
      "source": [
        "# Create a list for all labels\n",
        "polarities = []\n",
        "polarities.extend([1] * len(df_sent_pos))  # Label positive sentences as 1\n",
        "polarities.extend([0] * len(df_sent_neg))  # Label negative sentences as 0"
      ],
      "metadata": {
        "id": "WtgQjW6zGxl-"
      },
      "execution_count": 15,
      "outputs": []
    },
    {
      "cell_type": "code",
      "source": [
        "# Combine sentences and labels into a single list\n",
        "combined = list(zip(sentences, polarities))\n",
        "\n",
        "# Shuffle the combined list\n",
        "random.shuffle(combined)\n",
        "\n",
        "# Split the shuffled list back into sentences and labels\n",
        "sentences[:], polarities[:] = zip(*combined)"
      ],
      "metadata": {
        "id": "P_J7IMozHOOa"
      },
      "execution_count": 18,
      "outputs": []
    },
    {
      "cell_type": "markdown",
      "source": [
        "# Train-Test Split"
      ],
      "metadata": {
        "id": "GYkQ4yMmIa5y"
      }
    },
    {
      "cell_type": "code",
      "source": [
        "# Define train-test split ratio\n",
        "train_test_ratio = 0.8\n",
        "\n",
        "# Calculate the size of the training set\n",
        "train_set_size = int(train_test_ratio * len(sentences))\n",
        "\n",
        "# Split data into training and test sets\n",
        "X_train, X_test = sentences[:train_set_size], sentences[train_set_size:]\n",
        "y_train, y_test = polarities[:train_set_size], polarities[train_set_size:]\n",
        "\n",
        "# Print sizes of training and test sets\n",
        "print(\"Size of training set:\", len(X_train))\n",
        "print(\"Size of test set:\", len(X_test))"
      ],
      "metadata": {
        "colab": {
          "base_uri": "https://localhost:8080/"
        },
        "id": "6BbPukvgIcYX",
        "outputId": "f17aa691-43f9-4eeb-875b-e84a09826f90"
      },
      "execution_count": 19,
      "outputs": [
        {
          "output_type": "stream",
          "name": "stdout",
          "text": [
            "Size of training set: 8529\n",
            "Size of test set: 2133\n"
          ]
        }
      ]
    }
  ]
}